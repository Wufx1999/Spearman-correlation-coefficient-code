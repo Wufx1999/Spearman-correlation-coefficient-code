{
 "cells": [
  {
   "cell_type": "code",
   "execution_count": 1,
   "id": "465e7f9e",
   "metadata": {},
   "outputs": [],
   "source": [
    "import pandas as pd\n",
    "import numpy as np\n",
    "from sklearn.preprocessing import MinMaxScaler\n",
    "from sklearn.model_selection import train_test_split\n",
    "import matplotlib.pyplot as plt\n",
    "from sklearn.metrics import r2_score\n",
    "import shap\n",
    "import warnings\n",
    "from sklearn.feature_selection import VarianceThreshold\n",
    "from sklearn.ensemble import AdaBoostRegressor\n",
    "from sklearn.preprocessing import StandardScaler\n",
    "warnings.filterwarnings(\"ignore\")"
   ]
  },
  {
   "cell_type": "code",
   "execution_count": 2,
   "id": "b6163054",
   "metadata": {},
   "outputs": [
    {
     "name": "stdout",
     "output_type": "stream",
     "text": [
      "(34, 1476)\n",
      "(34, 1476)\n"
     ]
    }
   ],
   "source": [
    "data = pd.read_excel(\"Wu20231225.xlsx\", index_col=0)\n",
    "print(data.shape)\n",
    "data.isnull().sum()\n",
    "data.dropna(axis=1,inplace=True)\n",
    "print(data.shape)\n",
    "data_name = data.columns"
   ]
  },
  {
   "cell_type": "code",
   "execution_count": 3,
   "id": "c939f759",
   "metadata": {},
   "outputs": [
    {
     "name": "stdout",
     "output_type": "stream",
     "text": [
      "Variance Filtering (34, 1118)\n",
      "(34, 1114)\n"
     ]
    }
   ],
   "source": [
    "selector = VarianceThreshold(threshold=0) \n",
    "data1 = selector.fit_transform(data)\n",
    "all_name = data.columns.values.tolist()  \n",
    "select_name_index0 = selector.get_support(indices=True)  \n",
    "select_name0 = []\n",
    "for i in select_name_index0:\n",
    "    select_name0.append(all_name[i])\n",
    "data2 = pd.DataFrame(data1)\n",
    "data2.columns = select_name0\n",
    "data = data2\n",
    "print(f'{\"Variance Filtering\"}', data.shape)\n",
    "X = data.iloc[:, :-4]\n",
    "Y_Alga = data.iloc[:, -4]\n",
    "Y_Plant = data.iloc[:, -3]\n",
    "Y_Microorganism = data.iloc[:, -2]\n",
    "Y_Substrate = data.iloc[:, -1]\n",
    "name = X.columns\n",
    "print(X.shape)"
   ]
  },
  {
   "cell_type": "code",
   "execution_count": 4,
   "id": "c7bb79c0",
   "metadata": {},
   "outputs": [
    {
     "name": "stdout",
     "output_type": "stream",
     "text": [
      "Top 8 features for Alga:\n",
      "VR1_Dt with correlation 0.6264\n",
      "mindO with correlation 0.6059\n",
      "minsOH with correlation 0.5964\n",
      "ATS7v with correlation 0.5915\n",
      "VE3_Dzp with correlation 0.5897\n",
      "ATS7p with correlation 0.5863\n",
      "ATS6m with correlation 0.5811\n",
      "ATS7m with correlation 0.5732\n",
      "Top 8 features for Plant:\n",
      "SpMax6_Bhi with correlation 0.7188\n",
      "SpMax6_Bhv with correlation 0.7052\n",
      "SpMax6_Bhp with correlation 0.7002\n",
      "TIC0 with correlation 0.6984\n",
      "ATS0e with correlation 0.6972\n",
      "ATS0i with correlation 0.6963\n",
      "nRotBt with correlation 0.6916\n",
      "GGI5 with correlation 0.6883\n",
      "Top 8 features for Microorganism:\n",
      "ATS3i with correlation 0.6479\n",
      "CIC0 with correlation 0.6309\n",
      "ATS3p with correlation 0.6103\n",
      "ATS3e with correlation 0.6064\n",
      "SpMax8_Bhe with correlation 0.6053\n",
      "ATS4i with correlation 0.5993\n",
      "nBondsS with correlation 0.5962\n",
      "ATS3v with correlation 0.5920\n",
      "Top 8 features for Substrate:\n",
      "XLogP with correlation 0.7086\n",
      "SpMax7_Bhp with correlation 0.7016\n",
      "VR1_Dt with correlation 0.6890\n",
      "nC with correlation 0.6839\n",
      "ATS0v with correlation 0.6794\n",
      "ETA_Alpha with correlation 0.6776\n",
      "maxsOH with correlation 0.6747\n",
      "SsOH with correlation 0.6747\n"
     ]
    }
   ],
   "source": [
    "# 分离特征和标签\n",
    "X = data.iloc[:, :-4]  # 所有行，除了最后四列\n",
    "y = data.iloc[:, -4:]  # 所有行，只包括最后四列\n",
    "\n",
    "# 标准化特征\n",
    "scaler = StandardScaler()\n",
    "X_scaled = scaler.fit_transform(X)\n",
    "X_scaled_df = pd.DataFrame(X_scaled, columns=X.columns)\n",
    "\n",
    "# 将标准化后的特征和标签合并，以计算相关性\n",
    "combined_df = pd.concat([X_scaled_df, y], axis=1)\n",
    "\n",
    "# 计算斯皮尔曼相关系数\n",
    "spearman_corr = combined_df.corr(method='spearman')\n",
    "\n",
    "# 找出每个标签的最相关的8个特征\n",
    "labels = y.columns\n",
    "top_features_per_label = {}\n",
    "\n",
    "for label in labels:\n",
    "    # 计算特征与当前标签的相关性\n",
    "    correlations = spearman_corr[label].drop(labels).abs().sort_values(ascending=False)\n",
    "    \n",
    "    # 获取最相关的8个特征\n",
    "    top_features = correlations.head(8)\n",
    "    top_features_per_label[label] = top_features\n",
    "\n",
    "# 打印每个标签下最相关的8个特征及其与标签的相关性大小\n",
    "for label, features in top_features_per_label.items():\n",
    "    print(f\"Top 8 features for {label}:\")\n",
    "    for feature, correlation in features.items():\n",
    "        print(f\"{feature} with correlation {correlation:.4f}\")"
   ]
  },
  {
   "cell_type": "code",
   "execution_count": 20,
   "id": "70741e90",
   "metadata": {},
   "outputs": [
    {
     "name": "stdout",
     "output_type": "stream",
     "text": [
      "VR1_Dt    0.626444\n",
      "mindO     0.605899\n",
      "minsOH    0.596424\n",
      "ATS7v     0.591534\n",
      "ATS7p     0.586339\n",
      "ATS6m     0.581143\n",
      "ATS7m     0.573197\n",
      "AATS5v    0.560055\n",
      "Name: Alga, dtype: float64 \n",
      " VE2_Dzp     -0.513906\n",
      "maxHBint7   -0.515434\n",
      "AATSC6i     -0.517573\n",
      "SHsOH       -0.540801\n",
      "ATSC6i      -0.545691\n",
      "VE2_Dzv     -0.548747\n",
      "VE3_Dzv     -0.568307\n",
      "VE3_Dzp     -0.589700\n",
      "Name: Alga, dtype: float64\n",
      "SpMax6_Bhi    0.718765\n",
      "SpMax6_Bhv    0.705193\n",
      "SpMax6_Bhp    0.700162\n",
      "TIC0          0.698403\n",
      "ATS0e         0.697180\n",
      "ATS0i         0.696263\n",
      "nRotBt        0.691557\n",
      "GGI5          0.688284\n",
      "Name: Plant, dtype: float64 \n",
      " SHsOH     -0.478454\n",
      "HF        -0.479982\n",
      "Mp        -0.490258\n",
      "minaasC   -0.494652\n",
      "nFRing    -0.515608\n",
      "WTPT-2    -0.517896\n",
      "SM1_Dzp   -0.534077\n",
      "SM1_Dzv   -0.570752\n",
      "Name: Plant, dtype: float64\n",
      "ATS3i         0.647922\n",
      "CIC0          0.630855\n",
      "ATS3p         0.610330\n",
      "ATS3e         0.606357\n",
      "SpMax8_Bhe    0.605273\n",
      "ATS4i         0.599328\n",
      "nBondsS       0.596214\n",
      "ATS3v         0.591993\n",
      "Name: Microorganism, dtype: float64 \n",
      " maxHBint4   -0.417787\n",
      "maxHsOH     -0.456907\n",
      "maxHBd      -0.456907\n",
      "minHsOH     -0.480134\n",
      "BIC1        -0.488081\n",
      "SIC1        -0.490220\n",
      "BIC0        -0.545274\n",
      "SIC0        -0.558722\n",
      "Name: Microorganism, dtype: float64\n",
      "XLogP         0.708642\n",
      "SpMax7_Bhp    0.701620\n",
      "VR1_Dt        0.689049\n",
      "nC            0.683863\n",
      "ATS0v         0.679352\n",
      "ETA_Alpha     0.677575\n",
      "SsOH          0.674715\n",
      "maxsOH        0.674715\n",
      "Name: Substrate, dtype: float64 \n",
      " VE3_Dzv   -0.579354\n",
      "HF        -0.579659\n",
      "AATSC2p   -0.579965\n",
      "MATS2v    -0.581493\n",
      "GE        -0.591579\n",
      "AATSC2v   -0.593108\n",
      "minHsOH   -0.595858\n",
      "GATS1i    -0.626423\n",
      "Name: Substrate, dtype: float64\n"
     ]
    }
   ],
   "source": [
    "# 分离特征和标签\n",
    "X = data.iloc[:, :-4]  # 所有行，除了最后四列\n",
    "y = data.iloc[:, -4:]  # 所有行，只包括最后四列\n",
    "\n",
    "# 标准化特征\n",
    "scaler = StandardScaler()\n",
    "X_scaled = scaler.fit_transform(X)\n",
    "X_scaled_df = pd.DataFrame(X_scaled, columns=X.columns)\n",
    "\n",
    "# 将标准化后的特征和标签合并，以计算相关性\n",
    "combined_df = pd.concat([X_scaled_df, y], axis=1)\n",
    "\n",
    "# 计算斯皮尔曼相关系数\n",
    "spearman_corr = combined_df.corr(method='spearman')\n",
    "\n",
    "# 找出每个标签的最相关的8个特征\n",
    "labels = y.columns\n",
    "top_features_per_label = {}\n",
    "\n",
    "for label in labels:\n",
    "    # 计算特征与当前标签的相关性\n",
    "    correlations = spearman_corr[label].drop(labels).sort_values(ascending=False)\n",
    "    print(correlations[0:8], \"\\n\", correlations[-8:])\n"
   ]
  },
  {
   "cell_type": "markdown",
   "id": "d46a75f6",
   "metadata": {},
   "source": [
    "## Y_Alga"
   ]
  },
  {
   "cell_type": "code",
   "execution_count": 5,
   "id": "99587746",
   "metadata": {},
   "outputs": [
    {
     "data": {
      "application/vnd.jupyter.widget-view+json": {
       "model_id": "d57afdca5381407db667b098690fda4b",
       "version_major": 2,
       "version_minor": 0
      },
      "text/plain": [
       "  0%|          | 0/34 [00:00<?, ?it/s]"
      ]
     },
     "metadata": {},
     "output_type": "display_data"
    },
    {
     "name": "stdout",
     "output_type": "stream",
     "text": [
      "nHeavyAtom has a negative effect on Y with an importance of 0.09747.\n",
      "apol has a negative effect on Y with an importance of 0.10064.\n",
      "ALogp2 has a positive effect on Y with an importance of 0.21740.\n",
      "nAtom has a positive effect on Y with an importance of 0.22331.\n",
      "AMR has a positive effect on Y with an importance of 0.22496.\n",
      "nAromBond has a negative effect on Y with an importance of 0.26007.\n",
      "ALogP has a positive effect on Y with an importance of 0.44415.\n",
      "naAromAtom has a negative effect on Y with an importance of 0.55890.\n"
     ]
    }
   ],
   "source": [
    "data_Alga = pd.read_excel(r\"D:\\jiqixuexi\\WuAlga.xlsx\", index_col=0)\n",
    "scaler = StandardScaler()\n",
    "data_Alga_scaled = scaler.fit_transform(data_Alga)\n",
    "data_Alga_scaled_df = pd.DataFrame(data_Alga_scaled, columns=data_Alga.columns)\n",
    "\n",
    "# Train the model\n",
    "model = AdaBoostRegressor().fit(data_Alga_scaled_df, Y_Alga)\n",
    "\n",
    "# Create a shap explainer\n",
    "explainer = shap.KernelExplainer(model.predict, data_Alga_scaled_df)\n",
    "\n",
    "# Compute shap values\n",
    "shap_values = explainer.shap_values(data_Alga_scaled_df)\n",
    "\n",
    "# Get the feature importances for each sample\n",
    "sample_importances = np.abs(shap_values).mean(axis=0)\n",
    "\n",
    "# Get the top 8 most important features\n",
    "top6_indices = np.argsort(sample_importances)[-8:]\n",
    "\n",
    "# Print the top 8 features and their effect on Y\n",
    "for i in top6_indices:\n",
    "    feature_name = name[i]\n",
    "    feature_importance = sample_importances[i]\n",
    "    feature_effect = 'positive' if shap_values[:, i].mean() > 0 else 'negative'\n",
    "    print(f'{feature_name} has a {feature_effect} effect on Y with an importance of {feature_importance:.5f}.')"
   ]
  },
  {
   "cell_type": "markdown",
   "id": "c0be5fc8",
   "metadata": {},
   "source": [
    "## Y_Plant"
   ]
  },
  {
   "cell_type": "code",
   "execution_count": 6,
   "id": "2ecee736",
   "metadata": {},
   "outputs": [
    {
     "data": {
      "application/vnd.jupyter.widget-view+json": {
       "model_id": "9138276c919941b5920c90054005e7ae",
       "version_major": 2,
       "version_minor": 0
      },
      "text/plain": [
       "  0%|          | 0/34 [00:00<?, ?it/s]"
      ]
     },
     "metadata": {},
     "output_type": "display_data"
    },
    {
     "name": "stdout",
     "output_type": "stream",
     "text": [
      "ALogP has a positive effect on Y with an importance of 0.17028.\n",
      "naAromAtom has a negative effect on Y with an importance of 0.18927.\n",
      "nAromBond has a negative effect on Y with an importance of 0.22459.\n",
      "ALogp2 has a positive effect on Y with an importance of 0.30756.\n",
      "apol has a positive effect on Y with an importance of 0.42028.\n",
      "AMR has a negative effect on Y with an importance of 0.48920.\n",
      "nAtom has a negative effect on Y with an importance of 0.56122.\n",
      "nHeavyAtom has a negative effect on Y with an importance of 0.56321.\n"
     ]
    }
   ],
   "source": [
    "data_Plant = pd.read_excel(r\"D:\\jiqixuexi\\WuPlant.xlsx\", index_col=0)\n",
    "scaler = StandardScaler()\n",
    "data_Plant_scaled = scaler.fit_transform(data_Plant)\n",
    "data_Plant_scaled_df = pd.DataFrame(data_Plant_scaled, columns=data_Plant.columns)\n",
    "\n",
    "# Train the model\n",
    "model = AdaBoostRegressor().fit(data_Plant_scaled_df, Y_Plant)\n",
    "\n",
    "# Create a shap explainer\n",
    "explainer = shap.KernelExplainer(model.predict, data_Plant_scaled_df)\n",
    "\n",
    "# Compute shap values\n",
    "shap_values = explainer.shap_values(data_Plant_scaled_df)\n",
    "\n",
    "# Get the feature importances for each sample\n",
    "sample_importances = np.abs(shap_values).mean(axis=0)\n",
    "\n",
    "# Get the top 8 most important features\n",
    "top6_indices = np.argsort(sample_importances)[-8:]\n",
    "\n",
    "# Print the top 8 features and their effect on Y\n",
    "for i in top6_indices:\n",
    "    feature_name = name[i]\n",
    "    feature_importance = sample_importances[i]\n",
    "    feature_effect = 'positive' if shap_values[:, i].mean() > 0 else 'negative'\n",
    "    print(f'{feature_name} has a {feature_effect} effect on Y with an importance of {feature_importance:.5f}.')"
   ]
  },
  {
   "cell_type": "markdown",
   "id": "6740f63f",
   "metadata": {},
   "source": [
    "## Y_Microorganism"
   ]
  },
  {
   "cell_type": "code",
   "execution_count": 7,
   "id": "2d653980",
   "metadata": {},
   "outputs": [
    {
     "data": {
      "application/vnd.jupyter.widget-view+json": {
       "model_id": "49a7ef5c6a8140dab051b22c25abe71c",
       "version_major": 2,
       "version_minor": 0
      },
      "text/plain": [
       "  0%|          | 0/34 [00:00<?, ?it/s]"
      ]
     },
     "metadata": {},
     "output_type": "display_data"
    },
    {
     "name": "stdout",
     "output_type": "stream",
     "text": [
      "apol has a positive effect on Y with an importance of 0.18.\n",
      "AMR has a positive effect on Y with an importance of 0.27.\n",
      "ALogP has a negative effect on Y with an importance of 0.32.\n",
      "nAromBond has a negative effect on Y with an importance of 0.34.\n",
      "nAtom has a negative effect on Y with an importance of 0.42.\n",
      "nHeavyAtom has a negative effect on Y with an importance of 0.48.\n",
      "naAromAtom has a positive effect on Y with an importance of 0.76.\n",
      "ALogp2 has a negative effect on Y with an importance of 1.70.\n"
     ]
    }
   ],
   "source": [
    "data_Microorganism = pd.read_excel(r\"D:\\jiqixuexi\\WuMicroorganism.xlsx\", index_col=0)\n",
    "scaler = StandardScaler()\n",
    "data_Microorganism_scaled = scaler.fit_transform(data_Microorganism)\n",
    "data_Microorganism_scaled_df = pd.DataFrame(data_Microorganism_scaled, columns=data_Microorganism.columns)\n",
    "\n",
    "# Train the model\n",
    "model = AdaBoostRegressor().fit(data_Microorganism_scaled_df, Y_Microorganism)\n",
    "\n",
    "# Create a shap explainer\n",
    "explainer = shap.KernelExplainer(model.predict, data_Microorganism_scaled_df)\n",
    "\n",
    "# Compute shap values\n",
    "shap_values = explainer.shap_values(data_Microorganism_scaled_df)\n",
    "\n",
    "# Get the feature importances for each sample\n",
    "sample_importances = np.abs(shap_values).mean(axis=0)\n",
    "\n",
    "# Get the top 8 most important features\n",
    "top6_indices = np.argsort(sample_importances)[-8:]\n",
    "\n",
    "# Print the top 8 features and their effect on Y\n",
    "for i in top6_indices:\n",
    "    feature_name = name[i]\n",
    "    feature_importance = sample_importances[i]\n",
    "    feature_effect = 'positive' if shap_values[:, i].mean() > 0 else 'negative'\n",
    "    print(f'{feature_name} has a {feature_effect} effect on Y with an importance of {feature_importance:.2f}.')"
   ]
  },
  {
   "cell_type": "markdown",
   "id": "093e51c2",
   "metadata": {},
   "source": [
    "## Y_Substrate"
   ]
  },
  {
   "cell_type": "code",
   "execution_count": 8,
   "id": "577b3f64",
   "metadata": {},
   "outputs": [
    {
     "data": {
      "application/vnd.jupyter.widget-view+json": {
       "model_id": "c83885e071824155b8bc13a1f91ea003",
       "version_major": 2,
       "version_minor": 0
      },
      "text/plain": [
       "  0%|          | 0/34 [00:00<?, ?it/s]"
      ]
     },
     "metadata": {},
     "output_type": "display_data"
    },
    {
     "name": "stdout",
     "output_type": "stream",
     "text": [
      "apol has a positive effect on Y with an importance of 0.00126.\n",
      "nAromBond has a positive effect on Y with an importance of 0.00395.\n",
      "naAromAtom has a negative effect on Y with an importance of 0.00432.\n",
      "nHeavyAtom has a positive effect on Y with an importance of 0.00438.\n",
      "ALogp2 has a positive effect on Y with an importance of 0.00500.\n",
      "AMR has a negative effect on Y with an importance of 0.00684.\n",
      "ALogP has a negative effect on Y with an importance of 0.01036.\n",
      "nAtom has a negative effect on Y with an importance of 0.10456.\n"
     ]
    }
   ],
   "source": [
    "data_Substrate = pd.read_excel(r\"D:\\jiqixuexi\\WuSubstrate.xlsx\", index_col=0)\n",
    "scaler = StandardScaler()\n",
    "data_Substrate_scaled = scaler.fit_transform(data_Substrate)\n",
    "data_Substrate_scaled_df = pd.DataFrame(data_Substrate_scaled, columns=data_Substrate.columns)\n",
    "\n",
    "# Train the model\n",
    "model = AdaBoostRegressor().fit(data_Substrate_scaled_df, Y_Substrate)\n",
    "\n",
    "# Create a shap explainer\n",
    "explainer = shap.KernelExplainer(model.predict, data_Substrate_scaled_df)\n",
    "\n",
    "# Compute shap values\n",
    "shap_values = explainer.shap_values(data_Substrate_scaled_df)\n",
    "\n",
    "# Get the feature importances for each sample\n",
    "sample_importances = np.abs(shap_values).mean(axis=0)\n",
    "\n",
    "# Get the top 8 most important features\n",
    "top6_indices = np.argsort(sample_importances)[-8:]\n",
    "\n",
    "# Print the top 8 features and their effect on Y\n",
    "for i in top6_indices:\n",
    "    feature_name = name[i]\n",
    "    feature_importance = sample_importances[i]\n",
    "    feature_effect = 'positive' if shap_values[:, i].mean() > 0 else 'negative'\n",
    "    print(f'{feature_name} has a {feature_effect} effect on Y with an importance of {feature_importance:.5f}.')"
   ]
  },
  {
   "cell_type": "code",
   "execution_count": null,
   "id": "c8db89e0",
   "metadata": {},
   "outputs": [],
   "source": []
  }
 ],
 "metadata": {
  "kernelspec": {
   "display_name": "Python 3 (ipykernel)",
   "language": "python",
   "name": "python3"
  },
  "language_info": {
   "codemirror_mode": {
    "name": "ipython",
    "version": 3
   },
   "file_extension": ".py",
   "mimetype": "text/x-python",
   "name": "python",
   "nbconvert_exporter": "python",
   "pygments_lexer": "ipython3",
   "version": "3.9.7"
  },
  "vp": {
   "vp_config_version": "1.0.0",
   "vp_menu_width": 273,
   "vp_note_display": false,
   "vp_note_width": 0,
   "vp_position": {
    "width": 278
   },
   "vp_section_display": false,
   "vp_signature": "VisualPython"
  }
 },
 "nbformat": 4,
 "nbformat_minor": 5
}
